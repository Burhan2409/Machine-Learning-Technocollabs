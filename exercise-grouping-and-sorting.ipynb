{
 "cells": [
  {
   "cell_type": "markdown",
   "id": "cea9f197",
   "metadata": {
    "papermill": {
     "duration": 0.006873,
     "end_time": "2023-03-16T18:27:28.761252",
     "exception": false,
     "start_time": "2023-03-16T18:27:28.754379",
     "status": "completed"
    },
    "tags": []
   },
   "source": [
    "**This notebook is an exercise in the [Pandas](https://www.kaggle.com/learn/pandas) course.  You can reference the tutorial at [this link](https://www.kaggle.com/residentmario/grouping-and-sorting).**\n",
    "\n",
    "---\n"
   ]
  },
  {
   "cell_type": "markdown",
   "id": "47b00f44",
   "metadata": {
    "papermill": {
     "duration": 0.005354,
     "end_time": "2023-03-16T18:27:28.772852",
     "exception": false,
     "start_time": "2023-03-16T18:27:28.767498",
     "status": "completed"
    },
    "tags": []
   },
   "source": [
    "# Introduction\n",
    "\n",
    "In these exercises we'll apply groupwise analysis to our dataset.\n",
    "\n",
    "Run the code cell below to load the data before running the exercises."
   ]
  },
  {
   "cell_type": "code",
   "execution_count": 1,
   "id": "03142f63",
   "metadata": {
    "execution": {
     "iopub.execute_input": "2023-03-16T18:27:28.786793Z",
     "iopub.status.busy": "2023-03-16T18:27:28.785885Z",
     "iopub.status.idle": "2023-03-16T18:27:31.462609Z",
     "shell.execute_reply": "2023-03-16T18:27:31.461312Z"
    },
    "papermill": {
     "duration": 2.686984,
     "end_time": "2023-03-16T18:27:31.465386",
     "exception": false,
     "start_time": "2023-03-16T18:27:28.778402",
     "status": "completed"
    },
    "tags": []
   },
   "outputs": [
    {
     "name": "stdout",
     "output_type": "stream",
     "text": [
      "Setup complete.\n"
     ]
    }
   ],
   "source": [
    "import pandas as pd\n",
    "\n",
    "reviews = pd.read_csv(\"../input/wine-reviews/winemag-data-130k-v2.csv\", index_col=0)\n",
    "#pd.set_option(\"display.max_rows\", 5)\n",
    "\n",
    "from learntools.core import binder; binder.bind(globals())\n",
    "from learntools.pandas.grouping_and_sorting import *\n",
    "print(\"Setup complete.\")"
   ]
  },
  {
   "cell_type": "markdown",
   "id": "5281cee6",
   "metadata": {
    "papermill": {
     "duration": 0.005804,
     "end_time": "2023-03-16T18:27:31.477033",
     "exception": false,
     "start_time": "2023-03-16T18:27:31.471229",
     "status": "completed"
    },
    "tags": []
   },
   "source": [
    "# Exercises"
   ]
  },
  {
   "cell_type": "markdown",
   "id": "e85e867f",
   "metadata": {
    "papermill": {
     "duration": 0.005587,
     "end_time": "2023-03-16T18:27:31.488353",
     "exception": false,
     "start_time": "2023-03-16T18:27:31.482766",
     "status": "completed"
    },
    "tags": []
   },
   "source": [
    "## 1.\n",
    "Who are the most common wine reviewers in the dataset? Create a `Series` whose index is the `taster_twitter_handle` category from the dataset, and whose values count how many reviews each person wrote."
   ]
  },
  {
   "cell_type": "code",
   "execution_count": 2,
   "id": "be0c3452",
   "metadata": {
    "execution": {
     "iopub.execute_input": "2023-03-16T18:27:31.502433Z",
     "iopub.status.busy": "2023-03-16T18:27:31.501632Z",
     "iopub.status.idle": "2023-03-16T18:27:31.526715Z",
     "shell.execute_reply": "2023-03-16T18:27:31.525276Z"
    },
    "papermill": {
     "duration": 0.035083,
     "end_time": "2023-03-16T18:27:31.529220",
     "exception": false,
     "start_time": "2023-03-16T18:27:31.494137",
     "status": "completed"
    },
    "tags": []
   },
   "outputs": [
    {
     "data": {
      "application/javascript": [
       "parent.postMessage({\"jupyterEvent\": \"custom.exercise_interaction\", \"data\": {\"outcomeType\": 1, \"valueTowardsCompletion\": 0.16666666666666666, \"interactionType\": 1, \"questionType\": 1, \"questionId\": \"1_ReviewsWritten\", \"learnToolsVersion\": \"0.3.4\", \"failureMessage\": \"\", \"exceptionClass\": \"\", \"trace\": \"\"}}, \"*\")"
      ],
      "text/plain": [
       "<IPython.core.display.Javascript object>"
      ]
     },
     "metadata": {},
     "output_type": "display_data"
    },
    {
     "data": {
      "text/markdown": [
       "<span style=\"color:#33cc33\">Correct:</span> \n",
       "\n",
       "\n",
       "```python\n",
       "reviews_written = reviews.groupby('taster_twitter_handle').size()\n",
       "```\n",
       "or\n",
       "```python\n",
       "reviews_written = reviews.groupby('taster_twitter_handle').taster_twitter_handle.count()\n",
       "```\n"
      ],
      "text/plain": [
       "Correct: \n",
       "\n",
       "\n",
       "```python\n",
       "reviews_written = reviews.groupby('taster_twitter_handle').size()\n",
       "```\n",
       "or\n",
       "```python\n",
       "reviews_written = reviews.groupby('taster_twitter_handle').taster_twitter_handle.count()\n",
       "```"
      ]
     },
     "metadata": {},
     "output_type": "display_data"
    }
   ],
   "source": [
    "# Your code here\n",
    "reviews_written = reviews.groupby('taster_twitter_handle').size()\n",
    "\n",
    "# Check your answer\n",
    "q1.check()"
   ]
  },
  {
   "cell_type": "code",
   "execution_count": 3,
   "id": "589f9d83",
   "metadata": {
    "execution": {
     "iopub.execute_input": "2023-03-16T18:27:31.542994Z",
     "iopub.status.busy": "2023-03-16T18:27:31.542628Z",
     "iopub.status.idle": "2023-03-16T18:27:31.547074Z",
     "shell.execute_reply": "2023-03-16T18:27:31.545936Z"
    },
    "papermill": {
     "duration": 0.014098,
     "end_time": "2023-03-16T18:27:31.549343",
     "exception": false,
     "start_time": "2023-03-16T18:27:31.535245",
     "status": "completed"
    },
    "tags": []
   },
   "outputs": [],
   "source": [
    "#q1.hint()\n",
    "# q1.solution()"
   ]
  },
  {
   "cell_type": "markdown",
   "id": "6e2fb1b6",
   "metadata": {
    "papermill": {
     "duration": 0.005814,
     "end_time": "2023-03-16T18:27:31.561315",
     "exception": false,
     "start_time": "2023-03-16T18:27:31.555501",
     "status": "completed"
    },
    "tags": []
   },
   "source": [
    "## 2.\n",
    "What is the best wine I can buy for a given amount of money? Create a `Series` whose index is wine prices and whose values is the maximum number of points a wine costing that much was given in a review. Sort the values by price, ascending (so that `4.0` dollars is at the top and `3300.0` dollars is at the bottom)."
   ]
  },
  {
   "cell_type": "code",
   "execution_count": 4,
   "id": "2109da3a",
   "metadata": {
    "execution": {
     "iopub.execute_input": "2023-03-16T18:27:31.575873Z",
     "iopub.status.busy": "2023-03-16T18:27:31.575156Z",
     "iopub.status.idle": "2023-03-16T18:27:31.584684Z",
     "shell.execute_reply": "2023-03-16T18:27:31.583774Z"
    },
    "papermill": {
     "duration": 0.019425,
     "end_time": "2023-03-16T18:27:31.586863",
     "exception": false,
     "start_time": "2023-03-16T18:27:31.567438",
     "status": "completed"
    },
    "tags": []
   },
   "outputs": [
    {
     "data": {
      "application/javascript": [
       "parent.postMessage({\"jupyterEvent\": \"custom.exercise_interaction\", \"data\": {\"outcomeType\": 4, \"interactionType\": 1, \"questionType\": 1, \"questionId\": \"2_BestRatingPerPrice\", \"learnToolsVersion\": \"0.3.4\", \"valueTowardsCompletion\": 0.0, \"failureMessage\": \"\", \"exceptionClass\": \"\", \"trace\": \"\"}}, \"*\")"
      ],
      "text/plain": [
       "<IPython.core.display.Javascript object>"
      ]
     },
     "metadata": {},
     "output_type": "display_data"
    },
    {
     "data": {
      "text/markdown": [
       "<span style=\"color:#ccaa33\">Check:</span> When you've updated the starter code, `check()` will tell you whether your code is correct. You need to update the code that creates variable `best_rating_per_price`"
      ],
      "text/plain": [
       "Check: When you've updated the starter code, `check()` will tell you whether your code is correct. You need to update the code that creates variable `best_rating_per_price`"
      ]
     },
     "metadata": {},
     "output_type": "display_data"
    }
   ],
   "source": [
    "best_rating_per_price = ____\n",
    "\n",
    "# Check your answer\n",
    "q2.check()"
   ]
  },
  {
   "cell_type": "code",
   "execution_count": 5,
   "id": "fdde1f10",
   "metadata": {
    "execution": {
     "iopub.execute_input": "2023-03-16T18:27:31.601208Z",
     "iopub.status.busy": "2023-03-16T18:27:31.600547Z",
     "iopub.status.idle": "2023-03-16T18:27:31.605598Z",
     "shell.execute_reply": "2023-03-16T18:27:31.604336Z"
    },
    "papermill": {
     "duration": 0.015165,
     "end_time": "2023-03-16T18:27:31.608172",
     "exception": false,
     "start_time": "2023-03-16T18:27:31.593007",
     "status": "completed"
    },
    "tags": []
   },
   "outputs": [],
   "source": [
    "#q2.hint()\n",
    "#q2.solution()"
   ]
  },
  {
   "cell_type": "markdown",
   "id": "d6a7cd4a",
   "metadata": {
    "papermill": {
     "duration": 0.005892,
     "end_time": "2023-03-16T18:27:31.620205",
     "exception": false,
     "start_time": "2023-03-16T18:27:31.614313",
     "status": "completed"
    },
    "tags": []
   },
   "source": [
    "## 3.\n",
    "What are the minimum and maximum prices for each `variety` of wine? Create a `DataFrame` whose index is the `variety` category from the dataset and whose values are the `min` and `max` values thereof."
   ]
  },
  {
   "cell_type": "code",
   "execution_count": 6,
   "id": "90b5e93b",
   "metadata": {
    "execution": {
     "iopub.execute_input": "2023-03-16T18:27:31.635356Z",
     "iopub.status.busy": "2023-03-16T18:27:31.634607Z",
     "iopub.status.idle": "2023-03-16T18:27:31.659671Z",
     "shell.execute_reply": "2023-03-16T18:27:31.658645Z"
    },
    "papermill": {
     "duration": 0.034917,
     "end_time": "2023-03-16T18:27:31.662162",
     "exception": false,
     "start_time": "2023-03-16T18:27:31.627245",
     "status": "completed"
    },
    "tags": []
   },
   "outputs": [
    {
     "data": {
      "application/javascript": [
       "parent.postMessage({\"jupyterEvent\": \"custom.exercise_interaction\", \"data\": {\"outcomeType\": 1, \"valueTowardsCompletion\": 0.16666666666666666, \"interactionType\": 1, \"questionType\": 1, \"questionId\": \"3_PriceExtremes\", \"learnToolsVersion\": \"0.3.4\", \"failureMessage\": \"\", \"exceptionClass\": \"\", \"trace\": \"\"}}, \"*\")"
      ],
      "text/plain": [
       "<IPython.core.display.Javascript object>"
      ]
     },
     "metadata": {},
     "output_type": "display_data"
    },
    {
     "data": {
      "text/markdown": [
       "<span style=\"color:#33cc33\">Correct</span>"
      ],
      "text/plain": [
       "Correct"
      ]
     },
     "metadata": {},
     "output_type": "display_data"
    }
   ],
   "source": [
    "price_extremes = reviews.groupby('variety')['price'].agg(['min','max'])\n",
    "\n",
    "# Check your answer\n",
    "q3.check()"
   ]
  },
  {
   "cell_type": "code",
   "execution_count": 7,
   "id": "983d1ce7",
   "metadata": {
    "execution": {
     "iopub.execute_input": "2023-03-16T18:27:31.677298Z",
     "iopub.status.busy": "2023-03-16T18:27:31.676640Z",
     "iopub.status.idle": "2023-03-16T18:27:31.681286Z",
     "shell.execute_reply": "2023-03-16T18:27:31.680209Z"
    },
    "papermill": {
     "duration": 0.01477,
     "end_time": "2023-03-16T18:27:31.683589",
     "exception": false,
     "start_time": "2023-03-16T18:27:31.668819",
     "status": "completed"
    },
    "tags": []
   },
   "outputs": [],
   "source": [
    "#q3.hint()\n",
    "# q3.solution()"
   ]
  },
  {
   "cell_type": "markdown",
   "id": "0382143e",
   "metadata": {
    "papermill": {
     "duration": 0.005982,
     "end_time": "2023-03-16T18:27:31.696114",
     "exception": false,
     "start_time": "2023-03-16T18:27:31.690132",
     "status": "completed"
    },
    "tags": []
   },
   "source": [
    "## 4.\n",
    "What are the most expensive wine varieties? Create a variable `sorted_varieties` containing a copy of the dataframe from the previous question where varieties are sorted in descending order based on minimum price, then on maximum price (to break ties)."
   ]
  },
  {
   "cell_type": "code",
   "execution_count": 8,
   "id": "76e512aa",
   "metadata": {
    "execution": {
     "iopub.execute_input": "2023-03-16T18:27:31.710513Z",
     "iopub.status.busy": "2023-03-16T18:27:31.709808Z",
     "iopub.status.idle": "2023-03-16T18:27:31.720982Z",
     "shell.execute_reply": "2023-03-16T18:27:31.720022Z"
    },
    "papermill": {
     "duration": 0.020752,
     "end_time": "2023-03-16T18:27:31.722999",
     "exception": false,
     "start_time": "2023-03-16T18:27:31.702247",
     "status": "completed"
    },
    "tags": []
   },
   "outputs": [
    {
     "data": {
      "application/javascript": [
       "parent.postMessage({\"jupyterEvent\": \"custom.exercise_interaction\", \"data\": {\"outcomeType\": 1, \"valueTowardsCompletion\": 0.16666666666666666, \"interactionType\": 1, \"questionType\": 1, \"questionId\": \"4_SortedVarieties\", \"learnToolsVersion\": \"0.3.4\", \"failureMessage\": \"\", \"exceptionClass\": \"\", \"trace\": \"\"}}, \"*\")"
      ],
      "text/plain": [
       "<IPython.core.display.Javascript object>"
      ]
     },
     "metadata": {},
     "output_type": "display_data"
    },
    {
     "data": {
      "text/markdown": [
       "<span style=\"color:#33cc33\">Correct</span>"
      ],
      "text/plain": [
       "Correct"
      ]
     },
     "metadata": {},
     "output_type": "display_data"
    }
   ],
   "source": [
    "sorted_varieties = price_extremes.sort_values(by=['min','max'] , ascending=False )\n",
    "\n",
    "# Check your answer\n",
    "\n",
    "q4.check()"
   ]
  },
  {
   "cell_type": "code",
   "execution_count": 9,
   "id": "1ee929c9",
   "metadata": {
    "execution": {
     "iopub.execute_input": "2023-03-16T18:27:31.738016Z",
     "iopub.status.busy": "2023-03-16T18:27:31.737011Z",
     "iopub.status.idle": "2023-03-16T18:27:31.741105Z",
     "shell.execute_reply": "2023-03-16T18:27:31.740187Z"
    },
    "papermill": {
     "duration": 0.013582,
     "end_time": "2023-03-16T18:27:31.743178",
     "exception": false,
     "start_time": "2023-03-16T18:27:31.729596",
     "status": "completed"
    },
    "tags": []
   },
   "outputs": [],
   "source": [
    "#q4.hint()\n",
    "# q4.solution()"
   ]
  },
  {
   "cell_type": "markdown",
   "id": "2a0f7d91",
   "metadata": {
    "papermill": {
     "duration": 0.006259,
     "end_time": "2023-03-16T18:27:31.755881",
     "exception": false,
     "start_time": "2023-03-16T18:27:31.749622",
     "status": "completed"
    },
    "tags": []
   },
   "source": [
    "## 5.\n",
    "Create a `Series` whose index is reviewers and whose values is the average review score given out by that reviewer. Hint: you will need the `taster_name` and `points` columns."
   ]
  },
  {
   "cell_type": "code",
   "execution_count": 10,
   "id": "ca3826c1",
   "metadata": {
    "execution": {
     "iopub.execute_input": "2023-03-16T18:27:31.770272Z",
     "iopub.status.busy": "2023-03-16T18:27:31.769862Z",
     "iopub.status.idle": "2023-03-16T18:27:31.792460Z",
     "shell.execute_reply": "2023-03-16T18:27:31.791313Z"
    },
    "papermill": {
     "duration": 0.032636,
     "end_time": "2023-03-16T18:27:31.794826",
     "exception": false,
     "start_time": "2023-03-16T18:27:31.762190",
     "status": "completed"
    },
    "tags": []
   },
   "outputs": [
    {
     "data": {
      "application/javascript": [
       "parent.postMessage({\"jupyterEvent\": \"custom.exercise_interaction\", \"data\": {\"outcomeType\": 1, \"valueTowardsCompletion\": 0.16666666666666666, \"interactionType\": 1, \"questionType\": 1, \"questionId\": \"5_ReviewerMeanRatings\", \"learnToolsVersion\": \"0.3.4\", \"failureMessage\": \"\", \"exceptionClass\": \"\", \"trace\": \"\"}}, \"*\")"
      ],
      "text/plain": [
       "<IPython.core.display.Javascript object>"
      ]
     },
     "metadata": {},
     "output_type": "display_data"
    },
    {
     "data": {
      "text/markdown": [
       "<span style=\"color:#33cc33\">Correct</span>"
      ],
      "text/plain": [
       "Correct"
      ]
     },
     "metadata": {},
     "output_type": "display_data"
    }
   ],
   "source": [
    "reviewer_mean_ratings = reviews.groupby('taster_name').points.mean()\n",
    "\n",
    "# Check your answer\n",
    "q5.check()"
   ]
  },
  {
   "cell_type": "code",
   "execution_count": 11,
   "id": "b60a8b45",
   "metadata": {
    "execution": {
     "iopub.execute_input": "2023-03-16T18:27:31.811397Z",
     "iopub.status.busy": "2023-03-16T18:27:31.810650Z",
     "iopub.status.idle": "2023-03-16T18:27:31.815025Z",
     "shell.execute_reply": "2023-03-16T18:27:31.813927Z"
    },
    "papermill": {
     "duration": 0.01506,
     "end_time": "2023-03-16T18:27:31.817227",
     "exception": false,
     "start_time": "2023-03-16T18:27:31.802167",
     "status": "completed"
    },
    "tags": []
   },
   "outputs": [],
   "source": [
    "#q5.hint()\n",
    "# q5.solution()"
   ]
  },
  {
   "cell_type": "markdown",
   "id": "68cfdd1b",
   "metadata": {
    "papermill": {
     "duration": 0.006665,
     "end_time": "2023-03-16T18:27:31.831273",
     "exception": false,
     "start_time": "2023-03-16T18:27:31.824608",
     "status": "completed"
    },
    "tags": []
   },
   "source": [
    "Are there significant differences in the average scores assigned by the various reviewers? Run the cell below to use the `describe()` method to see a summary of the range of values."
   ]
  },
  {
   "cell_type": "code",
   "execution_count": 12,
   "id": "94bf19c3",
   "metadata": {
    "execution": {
     "iopub.execute_input": "2023-03-16T18:27:31.846841Z",
     "iopub.status.busy": "2023-03-16T18:27:31.846400Z",
     "iopub.status.idle": "2023-03-16T18:27:31.857993Z",
     "shell.execute_reply": "2023-03-16T18:27:31.856877Z"
    },
    "papermill": {
     "duration": 0.022175,
     "end_time": "2023-03-16T18:27:31.860242",
     "exception": false,
     "start_time": "2023-03-16T18:27:31.838067",
     "status": "completed"
    },
    "tags": []
   },
   "outputs": [
    {
     "data": {
      "text/plain": [
       "count    19.000000\n",
       "mean     88.233026\n",
       "std       1.243610\n",
       "min      85.855422\n",
       "25%      87.323501\n",
       "50%      88.536235\n",
       "75%      88.975256\n",
       "max      90.562551\n",
       "Name: points, dtype: float64"
      ]
     },
     "execution_count": 12,
     "metadata": {},
     "output_type": "execute_result"
    }
   ],
   "source": [
    "reviewer_mean_ratings.describe()"
   ]
  },
  {
   "cell_type": "markdown",
   "id": "b9e9cd98",
   "metadata": {
    "papermill": {
     "duration": 0.006599,
     "end_time": "2023-03-16T18:27:31.873887",
     "exception": false,
     "start_time": "2023-03-16T18:27:31.867288",
     "status": "completed"
    },
    "tags": []
   },
   "source": [
    "## 6.\n",
    "What combination of countries and varieties are most common? Create a `Series` whose index is a `MultiIndex`of `{country, variety}` pairs. For example, a pinot noir produced in the US should map to `{\"US\", \"Pinot Noir\"}`. Sort the values in the `Series` in descending order based on wine count."
   ]
  },
  {
   "cell_type": "code",
   "execution_count": 13,
   "id": "103929bf",
   "metadata": {
    "execution": {
     "iopub.execute_input": "2023-03-16T18:27:31.889325Z",
     "iopub.status.busy": "2023-03-16T18:27:31.888915Z",
     "iopub.status.idle": "2023-03-16T18:27:31.923500Z",
     "shell.execute_reply": "2023-03-16T18:27:31.922687Z"
    },
    "papermill": {
     "duration": 0.045021,
     "end_time": "2023-03-16T18:27:31.925681",
     "exception": false,
     "start_time": "2023-03-16T18:27:31.880660",
     "status": "completed"
    },
    "tags": []
   },
   "outputs": [
    {
     "data": {
      "application/javascript": [
       "parent.postMessage({\"jupyterEvent\": \"custom.exercise_interaction\", \"data\": {\"outcomeType\": 1, \"valueTowardsCompletion\": 0.16666666666666666, \"interactionType\": 1, \"questionType\": 1, \"questionId\": \"6_GroupbyCountryVariety\", \"learnToolsVersion\": \"0.3.4\", \"failureMessage\": \"\", \"exceptionClass\": \"\", \"trace\": \"\"}}, \"*\")"
      ],
      "text/plain": [
       "<IPython.core.display.Javascript object>"
      ]
     },
     "metadata": {},
     "output_type": "display_data"
    },
    {
     "data": {
      "text/markdown": [
       "<span style=\"color:#33cc33\">Correct</span>"
      ],
      "text/plain": [
       "Correct"
      ]
     },
     "metadata": {},
     "output_type": "display_data"
    }
   ],
   "source": [
    "country_variety_counts = reviews.groupby(['country','variety']).size().sort_values(ascending=False)\n",
    "\n",
    "# Check your answer\n",
    "q6.check()"
   ]
  },
  {
   "cell_type": "code",
   "execution_count": 14,
   "id": "d3484a9c",
   "metadata": {
    "execution": {
     "iopub.execute_input": "2023-03-16T18:27:31.941711Z",
     "iopub.status.busy": "2023-03-16T18:27:31.941303Z",
     "iopub.status.idle": "2023-03-16T18:27:31.946048Z",
     "shell.execute_reply": "2023-03-16T18:27:31.945027Z"
    },
    "papermill": {
     "duration": 0.015079,
     "end_time": "2023-03-16T18:27:31.948103",
     "exception": false,
     "start_time": "2023-03-16T18:27:31.933024",
     "status": "completed"
    },
    "tags": []
   },
   "outputs": [],
   "source": [
    "#q6.hint()\n",
    "# q6.solution()\n"
   ]
  },
  {
   "cell_type": "markdown",
   "id": "21176135",
   "metadata": {
    "papermill": {
     "duration": 0.006854,
     "end_time": "2023-03-16T18:27:31.962071",
     "exception": false,
     "start_time": "2023-03-16T18:27:31.955217",
     "status": "completed"
    },
    "tags": []
   },
   "source": [
    "# Keep going\n",
    "\n",
    "Move on to the [**data types and missing data**](https://www.kaggle.com/residentmario/data-types-and-missing-values)."
   ]
  },
  {
   "cell_type": "markdown",
   "id": "947c995a",
   "metadata": {
    "papermill": {
     "duration": 0.007522,
     "end_time": "2023-03-16T18:27:31.976820",
     "exception": false,
     "start_time": "2023-03-16T18:27:31.969298",
     "status": "completed"
    },
    "tags": []
   },
   "source": [
    "---\n",
    "\n",
    "\n",
    "\n",
    "\n",
    "*Have questions or comments? Visit the [course discussion forum](https://www.kaggle.com/learn/pandas/discussion) to chat with other learners.*"
   ]
  }
 ],
 "metadata": {
  "kernelspec": {
   "display_name": "Python 3",
   "language": "python",
   "name": "python3"
  },
  "language_info": {
   "codemirror_mode": {
    "name": "ipython",
    "version": 3
   },
   "file_extension": ".py",
   "mimetype": "text/x-python",
   "name": "python",
   "nbconvert_exporter": "python",
   "pygments_lexer": "ipython3",
   "version": "3.7.12"
  },
  "papermill": {
   "default_parameters": {},
   "duration": 13.788724,
   "end_time": "2023-03-16T18:27:32.706097",
   "environment_variables": {},
   "exception": null,
   "input_path": "__notebook__.ipynb",
   "output_path": "__notebook__.ipynb",
   "parameters": {},
   "start_time": "2023-03-16T18:27:18.917373",
   "version": "2.4.0"
  }
 },
 "nbformat": 4,
 "nbformat_minor": 5
}
