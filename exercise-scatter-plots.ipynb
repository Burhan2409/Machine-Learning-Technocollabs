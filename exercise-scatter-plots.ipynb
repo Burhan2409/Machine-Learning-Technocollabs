{
 "cells": [
  {
   "cell_type": "markdown",
   "id": "d8a03257",
   "metadata": {
    "papermill": {
     "duration": 0.0093,
     "end_time": "2023-02-19T13:07:54.831424",
     "exception": false,
     "start_time": "2023-02-19T13:07:54.822124",
     "status": "completed"
    },
    "tags": []
   },
   "source": [
    "**This notebook is an exercise in the [Data Visualization](https://www.kaggle.com/learn/data-visualization) course.  You can reference the tutorial at [this link](https://www.kaggle.com/alexisbcook/scatter-plots).**\n",
    "\n",
    "---\n"
   ]
  },
  {
   "cell_type": "markdown",
   "id": "5a92448c",
   "metadata": {
    "papermill": {
     "duration": 0.007582,
     "end_time": "2023-02-19T13:07:54.847240",
     "exception": false,
     "start_time": "2023-02-19T13:07:54.839658",
     "status": "completed"
    },
    "tags": []
   },
   "source": [
    "In this exercise, you will use your new knowledge to propose a solution to a real-world scenario.  To succeed, you will need to import data into Python, answer questions using the data, and generate **scatter plots** to understand patterns in the data.\n",
    "\n",
    "## Scenario\n",
    "\n",
    "You work for a major candy producer, and your goal is to write a report that your company can use to guide the design of its next product.  Soon after starting your research, you stumble across this [very interesting dataset](https://fivethirtyeight.com/features/the-ultimate-halloween-candy-power-ranking/) containing results from a fun survey to crowdsource favorite candies.\n",
    "\n",
    "## Setup\n",
    "\n",
    "Run the next cell to import and configure the Python libraries that you need to complete the exercise."
   ]
  },
  {
   "cell_type": "code",
   "execution_count": 1,
   "id": "a6a37661",
   "metadata": {
    "execution": {
     "iopub.execute_input": "2023-02-19T13:07:54.865432Z",
     "iopub.status.busy": "2023-02-19T13:07:54.864733Z",
     "iopub.status.idle": "2023-02-19T13:07:55.840847Z",
     "shell.execute_reply": "2023-02-19T13:07:55.839854Z"
    },
    "papermill": {
     "duration": 0.987629,
     "end_time": "2023-02-19T13:07:55.842921",
     "exception": false,
     "start_time": "2023-02-19T13:07:54.855292",
     "status": "completed"
    },
    "tags": []
   },
   "outputs": [
    {
     "name": "stdout",
     "output_type": "stream",
     "text": [
      "Setup Complete\n"
     ]
    }
   ],
   "source": [
    "import pandas as pd\n",
    "pd.plotting.register_matplotlib_converters()\n",
    "import matplotlib.pyplot as plt\n",
    "%matplotlib inline\n",
    "import seaborn as sns\n",
    "print(\"Setup Complete\")"
   ]
  },
  {
   "cell_type": "markdown",
   "id": "2950ffe0",
   "metadata": {
    "papermill": {
     "duration": 0.007469,
     "end_time": "2023-02-19T13:07:55.858438",
     "exception": false,
     "start_time": "2023-02-19T13:07:55.850969",
     "status": "completed"
    },
    "tags": []
   },
   "source": [
    "The questions below will give you feedback on your work. Run the following cell to set up our feedback system."
   ]
  },
  {
   "cell_type": "code",
   "execution_count": 2,
   "id": "a109d1ee",
   "metadata": {
    "execution": {
     "iopub.execute_input": "2023-02-19T13:07:55.875673Z",
     "iopub.status.busy": "2023-02-19T13:07:55.875318Z",
     "iopub.status.idle": "2023-02-19T13:07:55.946751Z",
     "shell.execute_reply": "2023-02-19T13:07:55.946009Z"
    },
    "papermill": {
     "duration": 0.083299,
     "end_time": "2023-02-19T13:07:55.949494",
     "exception": false,
     "start_time": "2023-02-19T13:07:55.866195",
     "status": "completed"
    },
    "tags": []
   },
   "outputs": [
    {
     "name": "stdout",
     "output_type": "stream",
     "text": [
      "Setup Complete\n"
     ]
    }
   ],
   "source": [
    "# Set up code checking\n",
    "import os\n",
    "if not os.path.exists(\"../input/candy.csv\"):\n",
    "    os.symlink(\"../input/data-for-datavis/candy.csv\", \"../input/candy.csv\") \n",
    "from learntools.core import binder\n",
    "binder.bind(globals())\n",
    "from learntools.data_viz_to_coder.ex4 import *\n",
    "print(\"Setup Complete\")"
   ]
  },
  {
   "cell_type": "markdown",
   "id": "5a4f532c",
   "metadata": {
    "papermill": {
     "duration": 0.007707,
     "end_time": "2023-02-19T13:07:55.966075",
     "exception": false,
     "start_time": "2023-02-19T13:07:55.958368",
     "status": "completed"
    },
    "tags": []
   },
   "source": [
    "## Step 1: Load the Data\n",
    "\n",
    "Read the candy data file into `candy_data`.  Use the `\"id\"` column to label the rows."
   ]
  },
  {
   "cell_type": "code",
   "execution_count": 3,
   "id": "3ab9cc37",
   "metadata": {
    "execution": {
     "iopub.execute_input": "2023-02-19T13:07:55.983433Z",
     "iopub.status.busy": "2023-02-19T13:07:55.983035Z",
     "iopub.status.idle": "2023-02-19T13:07:55.996691Z",
     "shell.execute_reply": "2023-02-19T13:07:55.995815Z"
    },
    "papermill": {
     "duration": 0.024942,
     "end_time": "2023-02-19T13:07:55.999026",
     "exception": false,
     "start_time": "2023-02-19T13:07:55.974084",
     "status": "completed"
    },
    "tags": []
   },
   "outputs": [
    {
     "data": {
      "application/javascript": [
       "parent.postMessage({\"jupyterEvent\": \"custom.exercise_interaction\", \"data\": {\"outcomeType\": 1, \"valueTowardsCompletion\": 0.3333333333333333, \"interactionType\": 1, \"questionType\": 1, \"questionId\": \"1_LoadData\", \"learnToolsVersion\": \"0.3.4\", \"failureMessage\": \"\", \"exceptionClass\": \"\", \"trace\": \"\"}}, \"*\")"
      ],
      "text/plain": [
       "<IPython.core.display.Javascript object>"
      ]
     },
     "metadata": {},
     "output_type": "display_data"
    },
    {
     "data": {
      "text/markdown": [
       "<span style=\"color:#33cc33\">Correct</span>"
      ],
      "text/plain": [
       "Correct"
      ]
     },
     "metadata": {},
     "output_type": "display_data"
    }
   ],
   "source": [
    "# Path of the file to read\n",
    "candy_filepath = \"../input/candy.csv\"\n",
    "\n",
    "# Fill in the line below to read the file into a variable candy_data\n",
    "candy_data = pd.read_csv(candy_filepath , index_col = 'id')\n",
    "\n",
    "# Run the line below with no changes to check that you've loaded the data correctly\n",
    "step_1.check()"
   ]
  },
  {
   "cell_type": "code",
   "execution_count": 4,
   "id": "764bec47",
   "metadata": {
    "execution": {
     "iopub.execute_input": "2023-02-19T13:07:56.017608Z",
     "iopub.status.busy": "2023-02-19T13:07:56.017235Z",
     "iopub.status.idle": "2023-02-19T13:07:56.021645Z",
     "shell.execute_reply": "2023-02-19T13:07:56.020413Z"
    },
    "papermill": {
     "duration": 0.01624,
     "end_time": "2023-02-19T13:07:56.024151",
     "exception": false,
     "start_time": "2023-02-19T13:07:56.007911",
     "status": "completed"
    },
    "tags": []
   },
   "outputs": [],
   "source": [
    "# Lines below will give you a hint or solution code\n",
    "#step_1.hint()\n",
    "#step_1.solution()"
   ]
  },
  {
   "cell_type": "markdown",
   "id": "86743272",
   "metadata": {
    "papermill": {
     "duration": 0.007716,
     "end_time": "2023-02-19T13:07:56.040237",
     "exception": false,
     "start_time": "2023-02-19T13:07:56.032521",
     "status": "completed"
    },
    "tags": []
   },
   "source": [
    "## Step 2: Review the data\n",
    "\n",
    "Use a Python command to print the first five rows of the data."
   ]
  },
  {
   "cell_type": "code",
   "execution_count": 5,
   "id": "472cf57f",
   "metadata": {
    "execution": {
     "iopub.execute_input": "2023-02-19T13:07:56.058709Z",
     "iopub.status.busy": "2023-02-19T13:07:56.058357Z",
     "iopub.status.idle": "2023-02-19T13:07:56.080910Z",
     "shell.execute_reply": "2023-02-19T13:07:56.079230Z"
    },
    "papermill": {
     "duration": 0.035768,
     "end_time": "2023-02-19T13:07:56.084166",
     "exception": false,
     "start_time": "2023-02-19T13:07:56.048398",
     "status": "completed"
    },
    "tags": []
   },
   "outputs": [
    {
     "data": {
      "text/html": [
       "<div>\n",
       "<style scoped>\n",
       "    .dataframe tbody tr th:only-of-type {\n",
       "        vertical-align: middle;\n",
       "    }\n",
       "\n",
       "    .dataframe tbody tr th {\n",
       "        vertical-align: top;\n",
       "    }\n",
       "\n",
       "    .dataframe thead th {\n",
       "        text-align: right;\n",
       "    }\n",
       "</style>\n",
       "<table border=\"1\" class=\"dataframe\">\n",
       "  <thead>\n",
       "    <tr style=\"text-align: right;\">\n",
       "      <th></th>\n",
       "      <th>competitorname</th>\n",
       "      <th>chocolate</th>\n",
       "      <th>fruity</th>\n",
       "      <th>caramel</th>\n",
       "      <th>peanutyalmondy</th>\n",
       "      <th>nougat</th>\n",
       "      <th>crispedricewafer</th>\n",
       "      <th>hard</th>\n",
       "      <th>bar</th>\n",
       "      <th>pluribus</th>\n",
       "      <th>sugarpercent</th>\n",
       "      <th>pricepercent</th>\n",
       "      <th>winpercent</th>\n",
       "    </tr>\n",
       "    <tr>\n",
       "      <th>id</th>\n",
       "      <th></th>\n",
       "      <th></th>\n",
       "      <th></th>\n",
       "      <th></th>\n",
       "      <th></th>\n",
       "      <th></th>\n",
       "      <th></th>\n",
       "      <th></th>\n",
       "      <th></th>\n",
       "      <th></th>\n",
       "      <th></th>\n",
       "      <th></th>\n",
       "      <th></th>\n",
       "    </tr>\n",
       "  </thead>\n",
       "  <tbody>\n",
       "    <tr>\n",
       "      <th>0</th>\n",
       "      <td>100 Grand</td>\n",
       "      <td>Yes</td>\n",
       "      <td>No</td>\n",
       "      <td>Yes</td>\n",
       "      <td>No</td>\n",
       "      <td>No</td>\n",
       "      <td>Yes</td>\n",
       "      <td>No</td>\n",
       "      <td>Yes</td>\n",
       "      <td>No</td>\n",
       "      <td>0.732</td>\n",
       "      <td>0.860</td>\n",
       "      <td>66.971725</td>\n",
       "    </tr>\n",
       "    <tr>\n",
       "      <th>1</th>\n",
       "      <td>3 Musketeers</td>\n",
       "      <td>Yes</td>\n",
       "      <td>No</td>\n",
       "      <td>No</td>\n",
       "      <td>No</td>\n",
       "      <td>Yes</td>\n",
       "      <td>No</td>\n",
       "      <td>No</td>\n",
       "      <td>Yes</td>\n",
       "      <td>No</td>\n",
       "      <td>0.604</td>\n",
       "      <td>0.511</td>\n",
       "      <td>67.602936</td>\n",
       "    </tr>\n",
       "    <tr>\n",
       "      <th>2</th>\n",
       "      <td>Air Heads</td>\n",
       "      <td>No</td>\n",
       "      <td>Yes</td>\n",
       "      <td>No</td>\n",
       "      <td>No</td>\n",
       "      <td>No</td>\n",
       "      <td>No</td>\n",
       "      <td>No</td>\n",
       "      <td>No</td>\n",
       "      <td>No</td>\n",
       "      <td>0.906</td>\n",
       "      <td>0.511</td>\n",
       "      <td>52.341465</td>\n",
       "    </tr>\n",
       "    <tr>\n",
       "      <th>3</th>\n",
       "      <td>Almond Joy</td>\n",
       "      <td>Yes</td>\n",
       "      <td>No</td>\n",
       "      <td>No</td>\n",
       "      <td>Yes</td>\n",
       "      <td>No</td>\n",
       "      <td>No</td>\n",
       "      <td>No</td>\n",
       "      <td>Yes</td>\n",
       "      <td>No</td>\n",
       "      <td>0.465</td>\n",
       "      <td>0.767</td>\n",
       "      <td>50.347546</td>\n",
       "    </tr>\n",
       "    <tr>\n",
       "      <th>4</th>\n",
       "      <td>Baby Ruth</td>\n",
       "      <td>Yes</td>\n",
       "      <td>No</td>\n",
       "      <td>Yes</td>\n",
       "      <td>Yes</td>\n",
       "      <td>Yes</td>\n",
       "      <td>No</td>\n",
       "      <td>No</td>\n",
       "      <td>Yes</td>\n",
       "      <td>No</td>\n",
       "      <td>0.604</td>\n",
       "      <td>0.767</td>\n",
       "      <td>56.914547</td>\n",
       "    </tr>\n",
       "  </tbody>\n",
       "</table>\n",
       "</div>"
      ],
      "text/plain": [
       "   competitorname chocolate fruity caramel peanutyalmondy nougat  \\\n",
       "id                                                                 \n",
       "0       100 Grand       Yes     No     Yes             No     No   \n",
       "1    3 Musketeers       Yes     No      No             No    Yes   \n",
       "2       Air Heads        No    Yes      No             No     No   \n",
       "3      Almond Joy       Yes     No      No            Yes     No   \n",
       "4       Baby Ruth       Yes     No     Yes            Yes    Yes   \n",
       "\n",
       "   crispedricewafer hard  bar pluribus  sugarpercent  pricepercent  winpercent  \n",
       "id                                                                              \n",
       "0               Yes   No  Yes       No         0.732         0.860   66.971725  \n",
       "1                No   No  Yes       No         0.604         0.511   67.602936  \n",
       "2                No   No   No       No         0.906         0.511   52.341465  \n",
       "3                No   No  Yes       No         0.465         0.767   50.347546  \n",
       "4                No   No  Yes       No         0.604         0.767   56.914547  "
      ]
     },
     "execution_count": 5,
     "metadata": {},
     "output_type": "execute_result"
    }
   ],
   "source": [
    "# Print the first five rows of the data\n",
    "____ # Your code here\n",
    "\n",
    "candy_data.head()"
   ]
  },
  {
   "cell_type": "markdown",
   "id": "64387a3e",
   "metadata": {
    "papermill": {
     "duration": 0.008413,
     "end_time": "2023-02-19T13:07:56.102455",
     "exception": false,
     "start_time": "2023-02-19T13:07:56.094042",
     "status": "completed"
    },
    "tags": []
   },
   "source": [
    "The dataset contains 83 rows, where each corresponds to a different candy bar.  There are 13 columns:\n",
    "- `'competitorname'` contains the name of the candy bar. \n",
    "- the next **9** columns (from `'chocolate'` to `'pluribus'`) describe the candy.  For instance, rows with chocolate candies have `\"Yes\"` in the `'chocolate'` column (and candies without chocolate have `\"No\"` in the same column).\n",
    "- `'sugarpercent'` provides some indication of the amount of sugar, where higher values signify higher sugar content.\n",
    "- `'pricepercent'` shows the price per unit, relative to the other candies in the dataset.\n",
    "- `'winpercent'` is calculated from the survey results; higher values indicate that the candy was more popular with survey respondents.\n",
    "\n",
    "Use the first five rows of the data to answer the questions below."
   ]
  },
  {
   "cell_type": "code",
   "execution_count": 6,
   "id": "cd85559b",
   "metadata": {
    "execution": {
     "iopub.execute_input": "2023-02-19T13:07:56.121614Z",
     "iopub.status.busy": "2023-02-19T13:07:56.121278Z",
     "iopub.status.idle": "2023-02-19T13:07:56.128714Z",
     "shell.execute_reply": "2023-02-19T13:07:56.127586Z"
    },
    "papermill": {
     "duration": 0.018963,
     "end_time": "2023-02-19T13:07:56.130408",
     "exception": false,
     "start_time": "2023-02-19T13:07:56.111445",
     "status": "completed"
    },
    "tags": []
   },
   "outputs": [
    {
     "data": {
      "application/javascript": [
       "parent.postMessage({\"jupyterEvent\": \"custom.exercise_interaction\", \"data\": {\"outcomeType\": 1, \"valueTowardsCompletion\": 0.3333333333333333, \"interactionType\": 1, \"questionType\": 1, \"questionId\": \"2_ReviewData\", \"learnToolsVersion\": \"0.3.4\", \"failureMessage\": \"\", \"exceptionClass\": \"\", \"trace\": \"\"}}, \"*\")"
      ],
      "text/plain": [
       "<IPython.core.display.Javascript object>"
      ]
     },
     "metadata": {},
     "output_type": "display_data"
    },
    {
     "data": {
      "text/markdown": [
       "<span style=\"color:#33cc33\">Correct</span>"
      ],
      "text/plain": [
       "Correct"
      ]
     },
     "metadata": {},
     "output_type": "display_data"
    }
   ],
   "source": [
    "# Fill in the line below: Which candy was more popular with survey respondents:\n",
    "# '3 Musketeers' or 'Almond Joy'?  (Please enclose your answer in single quotes.)\n",
    "more_popular = '3 Musketeers'\n",
    "\n",
    "# Fill in the line below: Which candy has higher sugar content: 'Air Heads'\n",
    "# or 'Baby Ruth'? (Please enclose your answer in single quotes.)\n",
    "more_sugar = 'Air Heads'\n",
    "\n",
    "# Check your answers\n",
    "step_2.check()"
   ]
  },
  {
   "cell_type": "code",
   "execution_count": 7,
   "id": "b75dcd87",
   "metadata": {
    "execution": {
     "iopub.execute_input": "2023-02-19T13:07:56.150210Z",
     "iopub.status.busy": "2023-02-19T13:07:56.149819Z",
     "iopub.status.idle": "2023-02-19T13:07:56.153790Z",
     "shell.execute_reply": "2023-02-19T13:07:56.152654Z"
    },
    "papermill": {
     "duration": 0.01639,
     "end_time": "2023-02-19T13:07:56.156014",
     "exception": false,
     "start_time": "2023-02-19T13:07:56.139624",
     "status": "completed"
    },
    "tags": []
   },
   "outputs": [],
   "source": [
    "# Lines below will give you a hint or solution code\n",
    "#step_2.hint()\n",
    "#step_2.solution()"
   ]
  },
  {
   "cell_type": "markdown",
   "id": "98159895",
   "metadata": {
    "papermill": {
     "duration": 0.008356,
     "end_time": "2023-02-19T13:07:56.173138",
     "exception": false,
     "start_time": "2023-02-19T13:07:56.164782",
     "status": "completed"
    },
    "tags": []
   },
   "source": [
    "## Step 3: The role of sugar\n",
    "\n",
    "Do people tend to prefer candies with higher sugar content?  \n",
    "\n",
    "#### Part A\n",
    "\n",
    "Create a scatter plot that shows the relationship between `'sugarpercent'` (on the horizontal x-axis) and `'winpercent'` (on the vertical y-axis).  _Don't add a regression line just yet -- you'll do that in the next step!_"
   ]
  },
  {
   "cell_type": "code",
   "execution_count": 8,
   "id": "441e87d9",
   "metadata": {
    "execution": {
     "iopub.execute_input": "2023-02-19T13:07:56.193050Z",
     "iopub.status.busy": "2023-02-19T13:07:56.192493Z",
     "iopub.status.idle": "2023-02-19T13:07:56.415194Z",
     "shell.execute_reply": "2023-02-19T13:07:56.414278Z"
    },
    "papermill": {
     "duration": 0.235259,
     "end_time": "2023-02-19T13:07:56.417253",
     "exception": false,
     "start_time": "2023-02-19T13:07:56.181994",
     "status": "completed"
    },
    "tags": []
   },
   "outputs": [
    {
     "data": {
      "application/javascript": [
       "parent.postMessage({\"jupyterEvent\": \"custom.exercise_interaction\", \"data\": {\"outcomeType\": 1, \"valueTowardsCompletion\": 0.3333333333333333, \"interactionType\": 1, \"questionType\": 2, \"questionId\": \"3.1_PlotBlueScatter\", \"learnToolsVersion\": \"0.3.4\", \"failureMessage\": \"\", \"exceptionClass\": \"\", \"trace\": \"\"}}, \"*\")"
      ],
      "text/plain": [
       "<IPython.core.display.Javascript object>"
      ]
     },
     "metadata": {},
     "output_type": "display_data"
    },
    {
     "data": {
      "text/markdown": [
       "<span style=\"color:#33cc33\">Correct</span>"
      ],
      "text/plain": [
       "Correct"
      ]
     },
     "metadata": {},
     "output_type": "display_data"
    },
    {
     "data": {
      "image/png": "[encoded data removed]",
      "text/plain": [
       "<Figure size 640x480 with 1 Axes>"
      ]
     },
     "metadata": {},
     "output_type": "display_data"
    }
   ],
   "source": [
    "# Scatter plot showing the relationship between 'sugarpercent' and 'winpercent'\n",
    "# Your code here\n",
    "sns.scatterplot(x='sugarpercent'\n",
    "           , y = 'winpercent',\n",
    "           data = candy_data)\n",
    "# Check your answer\n",
    "step_3.a.check()"
   ]
  },
  {
   "cell_type": "code",
   "execution_count": 9,
   "id": "1f67d3a1",
   "metadata": {
    "execution": {
     "iopub.execute_input": "2023-02-19T13:07:56.438355Z",
     "iopub.status.busy": "2023-02-19T13:07:56.437911Z",
     "iopub.status.idle": "2023-02-19T13:07:56.441955Z",
     "shell.execute_reply": "2023-02-19T13:07:56.441114Z"
    },
    "papermill": {
     "duration": 0.016737,
     "end_time": "2023-02-19T13:07:56.443876",
     "exception": false,
     "start_time": "2023-02-19T13:07:56.427139",
     "status": "completed"
    },
    "tags": []
   },
   "outputs": [],
   "source": [
    "# Lines below will give you a hint or solution code\n",
    "#step_3.a.hint()\n",
    "#step_3.a.solution_plot()"
   ]
  },
  {
   "cell_type": "markdown",
   "id": "9729233f",
   "metadata": {
    "papermill": {
     "duration": 0.008795,
     "end_time": "2023-02-19T13:07:56.462209",
     "exception": false,
     "start_time": "2023-02-19T13:07:56.453414",
     "status": "completed"
    },
    "tags": []
   },
   "source": [
    "#### Part B\n",
    "\n",
    "Does the scatter plot show a **strong** correlation between the two variables?  If so, are candies with more sugar relatively more or less popular with the survey respondents?"
   ]
  },
  {
   "cell_type": "code",
   "execution_count": 10,
   "id": "28726ba9",
   "metadata": {
    "execution": {
     "iopub.execute_input": "2023-02-19T13:07:56.482051Z",
     "iopub.status.busy": "2023-02-19T13:07:56.481664Z",
     "iopub.status.idle": "2023-02-19T13:07:56.486437Z",
     "shell.execute_reply": "2023-02-19T13:07:56.485231Z"
    },
    "papermill": {
     "duration": 0.016882,
     "end_time": "2023-02-19T13:07:56.488291",
     "exception": false,
     "start_time": "2023-02-19T13:07:56.471409",
     "status": "completed"
    },
    "tags": []
   },
   "outputs": [],
   "source": [
    "#step_3.b.hint()"
   ]
  },
  {
   "cell_type": "code",
   "execution_count": 11,
   "id": "3e0134a1",
   "metadata": {
    "execution": {
     "iopub.execute_input": "2023-02-19T13:07:56.508248Z",
     "iopub.status.busy": "2023-02-19T13:07:56.507874Z",
     "iopub.status.idle": "2023-02-19T13:07:56.514994Z",
     "shell.execute_reply": "2023-02-19T13:07:56.514248Z"
    },
    "papermill": {
     "duration": 0.019067,
     "end_time": "2023-02-19T13:07:56.516642",
     "exception": false,
     "start_time": "2023-02-19T13:07:56.497575",
     "status": "completed"
    },
    "tags": []
   },
   "outputs": [
    {
     "data": {
      "application/javascript": [
       "parent.postMessage({\"jupyterEvent\": \"custom.exercise_interaction\", \"data\": {\"interactionType\": 3, \"questionType\": 4, \"questionId\": \"3.2_ThinkBlueScatter\", \"learnToolsVersion\": \"0.3.4\", \"valueTowardsCompletion\": 0.0, \"failureMessage\": \"\", \"exceptionClass\": \"\", \"trace\": \"\", \"outcomeType\": 4}}, \"*\")"
      ],
      "text/plain": [
       "<IPython.core.display.Javascript object>"
      ]
     },
     "metadata": {},
     "output_type": "display_data"
    },
    {
     "data": {
      "text/markdown": [
       "<span style=\"color:#33cc99\">Solution:</span> The scatter plot does not show a strong correlation between the two variables. Since there is no clear relationship between the two variables, this tells us that sugar content does not play a strong role in candy popularity."
      ],
      "text/plain": [
       "Solution: The scatter plot does not show a strong correlation between the two variables. Since there is no clear relationship between the two variables, this tells us that sugar content does not play a strong role in candy popularity."
      ]
     },
     "metadata": {},
     "output_type": "display_data"
    }
   ],
   "source": [
    "# Check your answer (Run this code cell to receive credit!)\n",
    "step_3.b.solution()"
   ]
  },
  {
   "cell_type": "markdown",
   "id": "452a5408",
   "metadata": {
    "papermill": {
     "duration": 0.00927,
     "end_time": "2023-02-19T13:07:56.535306",
     "exception": false,
     "start_time": "2023-02-19T13:07:56.526036",
     "status": "completed"
    },
    "tags": []
   },
   "source": [
    "## Step 4: Take a closer look\n",
    "\n",
    "#### Part A\n",
    "\n",
    "Create the same scatter plot you created in **Step 3**, but now with a regression line!"
   ]
  },
  {
   "cell_type": "code",
   "execution_count": 12,
   "id": "205af395",
   "metadata": {
    "execution": {
     "iopub.execute_input": "2023-02-19T13:07:56.557322Z",
     "iopub.status.busy": "2023-02-19T13:07:56.556344Z",
     "iopub.status.idle": "2023-02-19T13:07:56.826096Z",
     "shell.execute_reply": "2023-02-19T13:07:56.824879Z"
    },
    "papermill": {
     "duration": 0.282985,
     "end_time": "2023-02-19T13:07:56.827938",
     "exception": false,
     "start_time": "2023-02-19T13:07:56.544953",
     "status": "completed"
    },
    "tags": []
   },
   "outputs": [
    {
     "data": {
      "application/javascript": [
       "parent.postMessage({\"jupyterEvent\": \"custom.exercise_interaction\", \"data\": {\"outcomeType\": 1, \"valueTowardsCompletion\": 0.3333333333333333, \"interactionType\": 1, \"questionType\": 2, \"questionId\": \"4.1_PlotBlueReg\", \"learnToolsVersion\": \"0.3.4\", \"failureMessage\": \"\", \"exceptionClass\": \"\", \"trace\": \"\"}}, \"*\")"
      ],
      "text/plain": [
       "<IPython.core.display.Javascript object>"
      ]
     },
     "metadata": {},
     "output_type": "display_data"
    },
    {
     "data": {
      "text/markdown": [
       "<span style=\"color:#33cc33\">Correct</span>"
      ],
      "text/plain": [
       "Correct"
      ]
     },
     "metadata": {},
     "output_type": "display_data"
    },
    {
     "data": {
      "image/png": "[encoded data removed]",
      "text/plain": [
       "<Figure size 640x480 with 1 Axes>"
      ]
     },
     "metadata": {},
     "output_type": "display_data"
    }
   ],
   "source": [
    "# Scatter plot w/ regression line showing the relationship between 'sugarpercent' and 'winpercent'\n",
    "____ # Your code here\n",
    "sns.regplot(x='sugarpercent',\n",
    "           y='winpercent',\n",
    "           data=candy_data)\n",
    "# Check your answer\n",
    "step_4.a.check()"
   ]
  },
  {
   "cell_type": "code",
   "execution_count": 13,
   "id": "8d6f4a1d",
   "metadata": {
    "execution": {
     "iopub.execute_input": "2023-02-19T13:07:56.849717Z",
     "iopub.status.busy": "2023-02-19T13:07:56.849032Z",
     "iopub.status.idle": "2023-02-19T13:07:56.853286Z",
     "shell.execute_reply": "2023-02-19T13:07:56.852451Z"
    },
    "papermill": {
     "duration": 0.017727,
     "end_time": "2023-02-19T13:07:56.855676",
     "exception": false,
     "start_time": "2023-02-19T13:07:56.837949",
     "status": "completed"
    },
    "tags": []
   },
   "outputs": [],
   "source": [
    "# Lines below will give you a hint or solution code\n",
    "#step_4.a.hint()\n",
    "#step_4.a.solution_plot()"
   ]
  },
  {
   "cell_type": "markdown",
   "id": "ad28df70",
   "metadata": {
    "papermill": {
     "duration": 0.009572,
     "end_time": "2023-02-19T13:07:56.875593",
     "exception": false,
     "start_time": "2023-02-19T13:07:56.866021",
     "status": "completed"
    },
    "tags": []
   },
   "source": [
    "#### Part B\n",
    "\n",
    "According to the plot above, is there a **slight** correlation between `'winpercent'` and `'sugarpercent'`?  What does this tell you about the candy that people tend to prefer?"
   ]
  },
  {
   "cell_type": "code",
   "execution_count": 14,
   "id": "f5493f36",
   "metadata": {
    "execution": {
     "iopub.execute_input": "2023-02-19T13:07:56.897213Z",
     "iopub.status.busy": "2023-02-19T13:07:56.896835Z",
     "iopub.status.idle": "2023-02-19T13:07:56.900736Z",
     "shell.execute_reply": "2023-02-19T13:07:56.899924Z"
    },
    "papermill": {
     "duration": 0.017051,
     "end_time": "2023-02-19T13:07:56.902723",
     "exception": false,
     "start_time": "2023-02-19T13:07:56.885672",
     "status": "completed"
    },
    "tags": []
   },
   "outputs": [],
   "source": [
    "#step_4.b.hint()"
   ]
  },
  {
   "cell_type": "code",
   "execution_count": 15,
   "id": "970b1454",
   "metadata": {
    "execution": {
     "iopub.execute_input": "2023-02-19T13:07:56.924624Z",
     "iopub.status.busy": "2023-02-19T13:07:56.924280Z",
     "iopub.status.idle": "2023-02-19T13:07:56.934226Z",
     "shell.execute_reply": "2023-02-19T13:07:56.932804Z"
    },
    "papermill": {
     "duration": 0.023691,
     "end_time": "2023-02-19T13:07:56.936678",
     "exception": false,
     "start_time": "2023-02-19T13:07:56.912987",
     "status": "completed"
    },
    "tags": []
   },
   "outputs": [
    {
     "data": {
      "application/javascript": [
       "parent.postMessage({\"jupyterEvent\": \"custom.exercise_interaction\", \"data\": {\"interactionType\": 3, \"questionType\": 4, \"questionId\": \"4.2_ThinkBlueReg\", \"learnToolsVersion\": \"0.3.4\", \"valueTowardsCompletion\": 0.0, \"failureMessage\": \"\", \"exceptionClass\": \"\", \"trace\": \"\", \"outcomeType\": 4}}, \"*\")"
      ],
      "text/plain": [
       "<IPython.core.display.Javascript object>"
      ]
     },
     "metadata": {},
     "output_type": "display_data"
    },
    {
     "data": {
      "text/markdown": [
       "<span style=\"color:#33cc99\">Solution:</span> Since the regression line has a slightly positive slope, this tells us that there is a slightly positive correlation between `'winpercent'` and `'sugarpercent'`. Thus, people have a slight preference for candies containing relatively more sugar."
      ],
      "text/plain": [
       "Solution: Since the regression line has a slightly positive slope, this tells us that there is a slightly positive correlation between `'winpercent'` and `'sugarpercent'`. Thus, people have a slight preference for candies containing relatively more sugar."
      ]
     },
     "metadata": {},
     "output_type": "display_data"
    }
   ],
   "source": [
    "# Check your answer (Run this code cell to receive credit!)\n",
    "step_4.b.solution()"
   ]
  },
  {
   "cell_type": "markdown",
   "id": "9f8e8788",
   "metadata": {
    "papermill": {
     "duration": 0.010122,
     "end_time": "2023-02-19T13:07:56.957432",
     "exception": false,
     "start_time": "2023-02-19T13:07:56.947310",
     "status": "completed"
    },
    "tags": []
   },
   "source": [
    "## Step 5: Chocolate!\n",
    "\n",
    "In the code cell below, create a scatter plot to show the relationship between `'pricepercent'` (on the horizontal x-axis) and `'winpercent'` (on the vertical y-axis). Use the `'chocolate'` column to color-code the points.  _Don't add any regression lines just yet -- you'll do that in the next step!_"
   ]
  },
  {
   "cell_type": "code",
   "execution_count": 16,
   "id": "b57acb1c",
   "metadata": {
    "execution": {
     "iopub.execute_input": "2023-02-19T13:07:56.980815Z",
     "iopub.status.busy": "2023-02-19T13:07:56.980254Z",
     "iopub.status.idle": "2023-02-19T13:07:57.218953Z",
     "shell.execute_reply": "2023-02-19T13:07:57.217835Z"
    },
    "papermill": {
     "duration": 0.25287,
     "end_time": "2023-02-19T13:07:57.221251",
     "exception": false,
     "start_time": "2023-02-19T13:07:56.968381",
     "status": "completed"
    },
    "tags": []
   },
   "outputs": [
    {
     "data": {
      "application/javascript": [
       "parent.postMessage({\"jupyterEvent\": \"custom.exercise_interaction\", \"data\": {\"outcomeType\": 1, \"valueTowardsCompletion\": 0.3333333333333333, \"interactionType\": 1, \"questionType\": 2, \"questionId\": \"5_ColorScatter\", \"learnToolsVersion\": \"0.3.4\", \"failureMessage\": \"\", \"exceptionClass\": \"\", \"trace\": \"\"}}, \"*\")"
      ],
      "text/plain": [
       "<IPython.core.display.Javascript object>"
      ]
     },
     "metadata": {},
     "output_type": "display_data"
    },
    {
     "data": {
      "text/markdown": [
       "<span style=\"color:#33cc33\">Correct</span>"
      ],
      "text/plain": [
       "Correct"
      ]
     },
     "metadata": {},
     "output_type": "display_data"
    },
    {
     "data": {
      "image/png": "[encoded data removed]",
      "text/plain": [
       "<Figure size 640x480 with 1 Axes>"
      ]
     },
     "metadata": {},
     "output_type": "display_data"
    }
   ],
   "source": [
    "# Scatter plot showing the relationship between 'pricepercent', 'winpercent', and 'chocolate'\n",
    "____ # Your code here\n",
    "sns.scatterplot(x='pricepercent',\n",
    "               y='winpercent',\n",
    "               hue=candy_data['chocolate'],\n",
    "               data = candy_data)\n",
    "# Check your answer\n",
    "step_5.check()"
   ]
  },
  {
   "cell_type": "code",
   "execution_count": 17,
   "id": "5913ff2b",
   "metadata": {
    "execution": {
     "iopub.execute_input": "2023-02-19T13:07:57.245521Z",
     "iopub.status.busy": "2023-02-19T13:07:57.245103Z",
     "iopub.status.idle": "2023-02-19T13:07:57.249232Z",
     "shell.execute_reply": "2023-02-19T13:07:57.248142Z"
    },
    "papermill": {
     "duration": 0.018488,
     "end_time": "2023-02-19T13:07:57.251010",
     "exception": false,
     "start_time": "2023-02-19T13:07:57.232522",
     "status": "completed"
    },
    "tags": []
   },
   "outputs": [],
   "source": [
    "# Lines below will give you a hint or solution code\n",
    "#step_5.hint()\n",
    "#step_5.solution_plot()"
   ]
  },
  {
   "cell_type": "markdown",
   "id": "92b58917",
   "metadata": {
    "papermill": {
     "duration": 0.010792,
     "end_time": "2023-02-19T13:07:57.273014",
     "exception": false,
     "start_time": "2023-02-19T13:07:57.262222",
     "status": "completed"
    },
    "tags": []
   },
   "source": [
    "Can you see any interesting patterns in the scatter plot?  We'll investigate this plot further  by adding regression lines in the next step!\n",
    "\n",
    "## Step 6: Investigate chocolate\n",
    "\n",
    "#### Part A\n",
    "\n",
    "Create the same scatter plot you created in **Step 5**, but now with two regression lines, corresponding to (1) chocolate candies and (2) candies without chocolate."
   ]
  },
  {
   "cell_type": "code",
   "execution_count": 18,
   "id": "5d12f055",
   "metadata": {
    "execution": {
     "iopub.execute_input": "2023-02-19T13:07:57.297502Z",
     "iopub.status.busy": "2023-02-19T13:07:57.296491Z",
     "iopub.status.idle": "2023-02-19T13:07:57.845173Z",
     "shell.execute_reply": "2023-02-19T13:07:57.843993Z"
    },
    "papermill": {
     "duration": 0.56343,
     "end_time": "2023-02-19T13:07:57.847642",
     "exception": false,
     "start_time": "2023-02-19T13:07:57.284212",
     "status": "completed"
    },
    "tags": []
   },
   "outputs": [
    {
     "data": {
      "application/javascript": [
       "parent.postMessage({\"jupyterEvent\": \"custom.exercise_interaction\", \"data\": {\"outcomeType\": 1, \"valueTowardsCompletion\": 0.3333333333333333, \"interactionType\": 1, \"questionType\": 2, \"questionId\": \"6.1_PlotColorReg\", \"learnToolsVersion\": \"0.3.4\", \"failureMessage\": \"\", \"exceptionClass\": \"\", \"trace\": \"\"}}, \"*\")"
      ],
      "text/plain": [
       "<IPython.core.display.Javascript object>"
      ]
     },
     "metadata": {},
     "output_type": "display_data"
    },
    {
     "data": {
      "text/markdown": [
       "<span style=\"color:#33cc33\">Correct</span>"
      ],
      "text/plain": [
       "Correct"
      ]
     },
     "metadata": {},
     "output_type": "display_data"
    },
    {
     "data": {
      "image/png": "[encoded data removed]",
      "text/plain": [
       "<Figure size 578.611x500 with 1 Axes>"
      ]
     },
     "metadata": {},
     "output_type": "display_data"
    }
   ],
   "source": [
    "# Color-coded scatter plot w/ regression lines\n",
    "____ # Your code here\n",
    "sns.lmplot(x='pricepercent' ,\n",
    "          y='winpercent',\n",
    "          hue='chocolate',\n",
    "          data = candy_data)\n",
    "# Check your answer\n",
    "step_6.a.check()"
   ]
  },
  {
   "cell_type": "code",
   "execution_count": 19,
   "id": "64e86f37",
   "metadata": {
    "execution": {
     "iopub.execute_input": "2023-02-19T13:07:57.873959Z",
     "iopub.status.busy": "2023-02-19T13:07:57.873066Z",
     "iopub.status.idle": "2023-02-19T13:07:57.877588Z",
     "shell.execute_reply": "2023-02-19T13:07:57.876767Z"
    },
    "papermill": {
     "duration": 0.019655,
     "end_time": "2023-02-19T13:07:57.879536",
     "exception": false,
     "start_time": "2023-02-19T13:07:57.859881",
     "status": "completed"
    },
    "tags": []
   },
   "outputs": [],
   "source": [
    "# Lines below will give you a hint or solution code\n",
    "#step_6.a.hint()\n",
    "#step_6.a.solution_plot()"
   ]
  },
  {
   "cell_type": "markdown",
   "id": "6af4360f",
   "metadata": {
    "papermill": {
     "duration": 0.011331,
     "end_time": "2023-02-19T13:07:57.902802",
     "exception": false,
     "start_time": "2023-02-19T13:07:57.891471",
     "status": "completed"
    },
    "tags": []
   },
   "source": [
    "#### Part B\n",
    "\n",
    "Using the regression lines, what conclusions can you draw about the effects of chocolate and price on candy popularity?"
   ]
  },
  {
   "cell_type": "code",
   "execution_count": 20,
   "id": "ab2efc05",
   "metadata": {
    "execution": {
     "iopub.execute_input": "2023-02-19T13:07:57.928374Z",
     "iopub.status.busy": "2023-02-19T13:07:57.927311Z",
     "iopub.status.idle": "2023-02-19T13:07:57.931541Z",
     "shell.execute_reply": "2023-02-19T13:07:57.930900Z"
    },
    "papermill": {
     "duration": 0.018814,
     "end_time": "2023-02-19T13:07:57.933333",
     "exception": false,
     "start_time": "2023-02-19T13:07:57.914519",
     "status": "completed"
    },
    "tags": []
   },
   "outputs": [],
   "source": [
    "#step_6.b.hint()"
   ]
  },
  {
   "cell_type": "code",
   "execution_count": 21,
   "id": "ba4addba",
   "metadata": {
    "execution": {
     "iopub.execute_input": "2023-02-19T13:07:57.959050Z",
     "iopub.status.busy": "2023-02-19T13:07:57.958415Z",
     "iopub.status.idle": "2023-02-19T13:07:57.965809Z",
     "shell.execute_reply": "2023-02-19T13:07:57.965123Z"
    },
    "papermill": {
     "duration": 0.022516,
     "end_time": "2023-02-19T13:07:57.967622",
     "exception": false,
     "start_time": "2023-02-19T13:07:57.945106",
     "status": "completed"
    },
    "tags": []
   },
   "outputs": [
    {
     "data": {
      "application/javascript": [
       "parent.postMessage({\"jupyterEvent\": \"custom.exercise_interaction\", \"data\": {\"interactionType\": 3, \"questionType\": 4, \"questionId\": \"6.2_ThinkColorReg\", \"learnToolsVersion\": \"0.3.4\", \"valueTowardsCompletion\": 0.0, \"failureMessage\": \"\", \"exceptionClass\": \"\", \"trace\": \"\", \"outcomeType\": 4}}, \"*\")"
      ],
      "text/plain": [
       "<IPython.core.display.Javascript object>"
      ]
     },
     "metadata": {},
     "output_type": "display_data"
    },
    {
     "data": {
      "text/markdown": [
       "<span style=\"color:#33cc99\">Solution:</span> We'll begin with the regression line for chocolate candies. Since this line has a slightly positive slope, we can say that more expensive chocolate candies tend to be more popular (than relatively cheaper chocolate candies).  Likewise, since the regression line for candies without chocolate has a negative slope, we can say that if candies don't contain chocolate, they tend to be more popular when they are cheaper.  One important note, however, is that the dataset is quite small -- so we shouldn't invest too much trust in these patterns!  To inspire more confidence in the results, we should add more candies to the dataset."
      ],
      "text/plain": [
       "Solution: We'll begin with the regression line for chocolate candies. Since this line has a slightly positive slope, we can say that more expensive chocolate candies tend to be more popular (than relatively cheaper chocolate candies).  Likewise, since the regression line for candies without chocolate has a negative slope, we can say that if candies don't contain chocolate, they tend to be more popular when they are cheaper.  One important note, however, is that the dataset is quite small -- so we shouldn't invest too much trust in these patterns!  To inspire more confidence in the results, we should add more candies to the dataset."
      ]
     },
     "metadata": {},
     "output_type": "display_data"
    }
   ],
   "source": [
    "# Check your answer (Run this code cell to receive credit!)\n",
    "step_6.b.solution()"
   ]
  },
  {
   "cell_type": "markdown",
   "id": "2aa20b59",
   "metadata": {
    "papermill": {
     "duration": 0.011812,
     "end_time": "2023-02-19T13:07:57.991631",
     "exception": false,
     "start_time": "2023-02-19T13:07:57.979819",
     "status": "completed"
    },
    "tags": []
   },
   "source": [
    "## Step 7: Everybody loves chocolate.\n",
    "\n",
    "#### Part A\n",
    "\n",
    "Create a categorical scatter plot to highlight the relationship between `'chocolate'` and `'winpercent'`.  Put `'chocolate'` on the (horizontal) x-axis, and `'winpercent'` on the (vertical) y-axis."
   ]
  },
  {
   "cell_type": "code",
   "execution_count": 22,
   "id": "5fb61f25",
   "metadata": {
    "execution": {
     "iopub.execute_input": "2023-02-19T13:07:58.017878Z",
     "iopub.status.busy": "2023-02-19T13:07:58.017179Z",
     "iopub.status.idle": "2023-02-19T13:07:58.231258Z",
     "shell.execute_reply": "2023-02-19T13:07:58.230594Z"
    },
    "papermill": {
     "duration": 0.229476,
     "end_time": "2023-02-19T13:07:58.233174",
     "exception": false,
     "start_time": "2023-02-19T13:07:58.003698",
     "status": "completed"
    },
    "tags": []
   },
   "outputs": [
    {
     "data": {
      "application/javascript": [
       "parent.postMessage({\"jupyterEvent\": \"custom.exercise_interaction\", \"data\": {\"outcomeType\": 1, \"valueTowardsCompletion\": 0.3333333333333333, \"interactionType\": 1, \"questionType\": 2, \"questionId\": \"7.1_PlotSwarm\", \"learnToolsVersion\": \"0.3.4\", \"failureMessage\": \"\", \"exceptionClass\": \"\", \"trace\": \"\"}}, \"*\")"
      ],
      "text/plain": [
       "<IPython.core.display.Javascript object>"
      ]
     },
     "metadata": {},
     "output_type": "display_data"
    },
    {
     "data": {
      "text/markdown": [
       "<span style=\"color:#33cc33\">Correct</span>"
      ],
      "text/plain": [
       "Correct"
      ]
     },
     "metadata": {},
     "output_type": "display_data"
    },
    {
     "data": {
      "image/png": "[encoded data removed]",
      "text/plain": [
       "<Figure size 640x480 with 1 Axes>"
      ]
     },
     "metadata": {},
     "output_type": "display_data"
    }
   ],
   "source": [
    "# Scatter plot showing the relationship between 'chocolate' and 'winpercent'\n",
    "____ # Your code here\n",
    "sns.swarmplot(x='chocolate',y='winpercent',data=candy_data)\n",
    "# Check your answer\n",
    "step_7.a.check()"
   ]
  },
  {
   "cell_type": "code",
   "execution_count": 23,
   "id": "60421e60",
   "metadata": {
    "execution": {
     "iopub.execute_input": "2023-02-19T13:07:58.260190Z",
     "iopub.status.busy": "2023-02-19T13:07:58.259833Z",
     "iopub.status.idle": "2023-02-19T13:07:58.263801Z",
     "shell.execute_reply": "2023-02-19T13:07:58.262845Z"
    },
    "papermill": {
     "duration": 0.01991,
     "end_time": "2023-02-19T13:07:58.265652",
     "exception": false,
     "start_time": "2023-02-19T13:07:58.245742",
     "status": "completed"
    },
    "tags": []
   },
   "outputs": [],
   "source": [
    "# Lines below will give you a hint or solution code\n",
    "#step_7.a.hint()\n",
    "#step_7.a.solution_plot()"
   ]
  },
  {
   "cell_type": "markdown",
   "id": "eef3ca6f",
   "metadata": {
    "papermill": {
     "duration": 0.012404,
     "end_time": "2023-02-19T13:07:58.290908",
     "exception": false,
     "start_time": "2023-02-19T13:07:58.278504",
     "status": "completed"
    },
    "tags": []
   },
   "source": [
    "#### Part B\n",
    "\n",
    "You decide to dedicate a section of your report to the fact that chocolate candies tend to be more popular than candies without chocolate.  Which plot is more appropriate to tell this story: the plot from **Step 6**, or the plot from **Step 7**?"
   ]
  },
  {
   "cell_type": "code",
   "execution_count": 24,
   "id": "c85b24ee",
   "metadata": {
    "execution": {
     "iopub.execute_input": "2023-02-19T13:07:58.318219Z",
     "iopub.status.busy": "2023-02-19T13:07:58.317852Z",
     "iopub.status.idle": "2023-02-19T13:07:58.321664Z",
     "shell.execute_reply": "2023-02-19T13:07:58.320698Z"
    },
    "papermill": {
     "duration": 0.019774,
     "end_time": "2023-02-19T13:07:58.323521",
     "exception": false,
     "start_time": "2023-02-19T13:07:58.303747",
     "status": "completed"
    },
    "tags": []
   },
   "outputs": [],
   "source": [
    "#step_7.b.hint()"
   ]
  },
  {
   "cell_type": "code",
   "execution_count": 25,
   "id": "ef6a3608",
   "metadata": {
    "execution": {
     "iopub.execute_input": "2023-02-19T13:07:58.350386Z",
     "iopub.status.busy": "2023-02-19T13:07:58.349724Z",
     "iopub.status.idle": "2023-02-19T13:07:58.357194Z",
     "shell.execute_reply": "2023-02-19T13:07:58.356528Z"
    },
    "papermill": {
     "duration": 0.023115,
     "end_time": "2023-02-19T13:07:58.359029",
     "exception": false,
     "start_time": "2023-02-19T13:07:58.335914",
     "status": "completed"
    },
    "tags": []
   },
   "outputs": [
    {
     "data": {
      "application/javascript": [
       "parent.postMessage({\"jupyterEvent\": \"custom.exercise_interaction\", \"data\": {\"interactionType\": 3, \"questionType\": 4, \"questionId\": \"7.2_ThinkSwarm\", \"learnToolsVersion\": \"0.3.4\", \"valueTowardsCompletion\": 0.0, \"failureMessage\": \"\", \"exceptionClass\": \"\", \"trace\": \"\", \"outcomeType\": 4}}, \"*\")"
      ],
      "text/plain": [
       "<IPython.core.display.Javascript object>"
      ]
     },
     "metadata": {},
     "output_type": "display_data"
    },
    {
     "data": {
      "text/markdown": [
       "<span style=\"color:#33cc99\">Solution:</span> In this case, the categorical scatter plot from **Step 7** is the more appropriate plot. While both plots tell the desired story, the plot from **Step 6** conveys far more information that could distract from the main point."
      ],
      "text/plain": [
       "Solution: In this case, the categorical scatter plot from **Step 7** is the more appropriate plot. While both plots tell the desired story, the plot from **Step 6** conveys far more information that could distract from the main point."
      ]
     },
     "metadata": {},
     "output_type": "display_data"
    }
   ],
   "source": [
    "# Check your answer (Run this code cell to receive credit!)\n",
    "step_7.b.solution()"
   ]
  },
  {
   "cell_type": "markdown",
   "id": "899dc395",
   "metadata": {
    "papermill": {
     "duration": 0.012348,
     "end_time": "2023-02-19T13:07:58.383979",
     "exception": false,
     "start_time": "2023-02-19T13:07:58.371631",
     "status": "completed"
    },
    "tags": []
   },
   "source": [
    "## Keep going\n",
    "\n",
    "Explore **[histograms and density plots](https://www.kaggle.com/alexisbcook/distributions)**."
   ]
  },
  {
   "cell_type": "markdown",
   "id": "8584d0d1",
   "metadata": {
    "papermill": {
     "duration": 0.012584,
     "end_time": "2023-02-19T13:07:58.409368",
     "exception": false,
     "start_time": "2023-02-19T13:07:58.396784",
     "status": "completed"
    },
    "tags": []
   },
   "source": [
    "---\n",
    "\n",
    "\n",
    "\n",
    "\n",
    "*Have questions or comments? Visit the [course discussion forum](https://www.kaggle.com/learn/data-visualization/discussion) to chat with other learners.*"
   ]
  }
 ],
 "metadata": {
  "kernelspec": {
   "display_name": "Python 3",
   "language": "python",
   "name": "python3"
  },
  "language_info": {
   "codemirror_mode": {
    "name": "ipython",
    "version": 3
   },
   "file_extension": ".py",
   "mimetype": "text/x-python",
   "name": "python",
   "nbconvert_exporter": "python",
   "pygments_lexer": "ipython3",
   "version": "3.7.12"
  },
  "papermill": {
   "default_parameters": {},
   "duration": 11.820233,
   "end_time": "2023-02-19T13:07:59.143635",
   "environment_variables": {},
   "exception": null,
   "input_path": "__notebook__.ipynb",
   "output_path": "__notebook__.ipynb",
   "parameters": {},
   "start_time": "2023-02-19T13:07:47.323402",
   "version": "2.3.4"
  }
 },
 "nbformat": 4,
 "nbformat_minor": 5
}
